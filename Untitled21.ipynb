{
  "nbformat": 4,
  "nbformat_minor": 0,
  "metadata": {
    "colab": {
      "provenance": [],
      "authorship_tag": "ABX9TyNdBV+XINGSUZ8DWqKsIPXG",
      "include_colab_link": true
    },
    "kernelspec": {
      "name": "python3",
      "display_name": "Python 3"
    },
    "language_info": {
      "name": "python"
    }
  },
  "cells": [
    {
      "cell_type": "markdown",
      "metadata": {
        "id": "view-in-github",
        "colab_type": "text"
      },
      "source": [
        "<a href=\"https://colab.research.google.com/github/trashchenkov/de/blob/main/Untitled21.ipynb\" target=\"_parent\"><img src=\"https://colab.research.google.com/assets/colab-badge.svg\" alt=\"Open In Colab\"/></a>"
      ]
    },
    {
      "cell_type": "code",
      "source": [
        "print('Привет, мир!')"
      ],
      "metadata": {
        "colab": {
          "base_uri": "https://localhost:8080/"
        },
        "id": "KNys3P0bO9Au",
        "outputId": "7fde1b00-34a0-4f41-904a-1150e6923ce8"
      },
      "execution_count": 2,
      "outputs": [
        {
          "output_type": "stream",
          "name": "stdout",
          "text": [
            "Привет, мир!\n"
          ]
        }
      ]
    },
    {
      "cell_type": "code",
      "source": [
        "x = 'Привет, мир!'\n",
        "print(x)"
      ],
      "metadata": {
        "id": "J_QSmy1aT4lp",
        "colab": {
          "base_uri": "https://localhost:8080/"
        },
        "outputId": "648f8b04-6b5c-4aab-f967-55c85b381e54"
      },
      "execution_count": 12,
      "outputs": [
        {
          "output_type": "stream",
          "name": "stdout",
          "text": [
            "Привет, мир!\n"
          ]
        }
      ]
    },
    {
      "cell_type": "code",
      "source": [
        "x = input('Введите фразу: ')\n",
        "print(x)"
      ],
      "metadata": {
        "colab": {
          "base_uri": "https://localhost:8080/"
        },
        "id": "e3SUM9q5RAlB",
        "outputId": "7ea053a2-5a3e-4541-92ce-e45e9bbf5460"
      },
      "execution_count": 17,
      "outputs": [
        {
          "output_type": "stream",
          "name": "stdout",
          "text": [
            "Введите фразу: Программирование - это очень легко\n",
            "Программирование - это очень легко\n"
          ]
        }
      ]
    },
    {
      "cell_type": "code",
      "source": [
        "!python --version"
      ],
      "metadata": {
        "colab": {
          "base_uri": "https://localhost:8080/"
        },
        "id": "IMvyR7uFVer-",
        "outputId": "80b2cde3-ae98-4e0b-8998-870ae248dc75"
      },
      "execution_count": 15,
      "outputs": [
        {
          "output_type": "stream",
          "name": "stdout",
          "text": [
            "Python 3.7.14\n"
          ]
        }
      ]
    },
    {
      "cell_type": "code",
      "source": [
        "print(x)\n",
        "print(x)\n",
        "print(x)"
      ],
      "metadata": {
        "colab": {
          "base_uri": "https://localhost:8080/"
        },
        "id": "xiYd44tpXKWD",
        "outputId": "c886fa82-ab85-4341-a0b9-7010576e616a"
      },
      "execution_count": 19,
      "outputs": [
        {
          "output_type": "stream",
          "name": "stdout",
          "text": [
            "Программирование - это очень легко\n",
            "Программирование - это очень легко\n",
            "Программирование - это очень легко\n"
          ]
        }
      ]
    },
    {
      "cell_type": "code",
      "source": [
        "n = 3"
      ],
      "metadata": {
        "id": "ZtWK-t8AT59X"
      },
      "execution_count": 29,
      "outputs": []
    },
    {
      "cell_type": "code",
      "source": [
        "x[n+1::2]"
      ],
      "metadata": {
        "colab": {
          "base_uri": "https://localhost:8080/",
          "height": 35
        },
        "id": "j88lRGDRXN9c",
        "outputId": "a3461625-636e-4310-84f6-c53054ca27c7"
      },
      "execution_count": 41,
      "outputs": [
        {
          "output_type": "execute_result",
          "data": {
            "text/plain": [
              "'рмиоаи  т чн ек'"
            ],
            "application/vnd.google.colaboratory.intrinsic+json": {
              "type": "string"
            }
          },
          "metadata": {},
          "execution_count": 41
        }
      ]
    },
    {
      "cell_type": "code",
      "source": [
        "x[1::4]"
      ],
      "metadata": {
        "colab": {
          "base_uri": "https://localhost:8080/",
          "height": 35
        },
        "id": "xzKsuQHEX5rZ",
        "outputId": "0688c90f-a2b9-458e-a8c4-2cc7fc192268"
      },
      "execution_count": 39,
      "outputs": [
        {
          "output_type": "execute_result",
          "data": {
            "text/plain": [
              "'рарн-оело'"
            ],
            "application/vnd.google.colaboratory.intrinsic+json": {
              "type": "string"
            }
          },
          "metadata": {},
          "execution_count": 39
        }
      ]
    },
    {
      "cell_type": "code",
      "source": [
        "x[1:5] + x[4:8] + x[5] + x[7]"
      ],
      "metadata": {
        "colab": {
          "base_uri": "https://localhost:8080/",
          "height": 35
        },
        "id": "FLj_3bpkZkGt",
        "outputId": "d878a08a-60bd-4078-9736-6e685a6eda27"
      },
      "execution_count": 43,
      "outputs": [
        {
          "output_type": "execute_result",
          "data": {
            "text/plain": [
              "'рогрраммам'"
            ],
            "application/vnd.google.colaboratory.intrinsic+json": {
              "type": "string"
            }
          },
          "metadata": {},
          "execution_count": 43
        }
      ]
    },
    {
      "cell_type": "code",
      "source": [
        "code = ord(' ')"
      ],
      "metadata": {
        "id": "WWYSaMC4Z5_G"
      },
      "execution_count": 53,
      "outputs": []
    },
    {
      "cell_type": "code",
      "source": [
        "y = x * 8\n",
        "y"
      ],
      "metadata": {
        "id": "LDqv_8tbaLh_",
        "colab": {
          "base_uri": "https://localhost:8080/",
          "height": 53
        },
        "outputId": "5d8f2062-cd58-41cc-b2cf-0f9f2a000ba8"
      },
      "execution_count": 56,
      "outputs": [
        {
          "output_type": "execute_result",
          "data": {
            "text/plain": [
              "'Программирование - это очень легкоПрограммирование - это очень легкоПрограммирование - это очень легкоПрограммирование - это очень легкоПрограммирование - это очень легкоПрограммирование - это очень легкоПрограммирование - это очень легкоПрограммирование - это очень легко'"
            ],
            "application/vnd.google.colaboratory.intrinsic+json": {
              "type": "string"
            }
          },
          "metadata": {},
          "execution_count": 56
        }
      ]
    },
    {
      "cell_type": "code",
      "source": [
        "num1 = 100\n",
        "num2 = 4"
      ],
      "metadata": {
        "id": "JtgdEtQoasL_"
      },
      "execution_count": 57,
      "outputs": []
    },
    {
      "cell_type": "code",
      "source": [
        "num1 % num2"
      ],
      "metadata": {
        "colab": {
          "base_uri": "https://localhost:8080/"
        },
        "id": "IHzoNDkOW_9e",
        "outputId": "4384be63-f6d1-4b0d-975d-d38e175273db"
      },
      "execution_count": 64,
      "outputs": [
        {
          "output_type": "execute_result",
          "data": {
            "text/plain": [
              "0"
            ]
          },
          "metadata": {},
          "execution_count": 64
        }
      ]
    },
    {
      "cell_type": "code",
      "source": [
        "bigNumber = 1000000000000"
      ],
      "metadata": {
        "id": "TTX4eMyVbi-p"
      },
      "execution_count": 58,
      "outputs": []
    },
    {
      "cell_type": "code",
      "source": [
        "result = 13283758 / bigNumber\n",
        "result"
      ],
      "metadata": {
        "colab": {
          "base_uri": "https://localhost:8080/"
        },
        "id": "bzu9hziFbmu2",
        "outputId": "d488262c-5b42-4440-d4db-ebb1d2d57202"
      },
      "execution_count": 65,
      "outputs": [
        {
          "output_type": "execute_result",
          "data": {
            "text/plain": [
              "1.3283758e-05"
            ]
          },
          "metadata": {},
          "execution_count": 65
        }
      ]
    },
    {
      "cell_type": "code",
      "source": [
        "import math\n",
        "print(math.pi)"
      ],
      "metadata": {
        "colab": {
          "base_uri": "https://localhost:8080/"
        },
        "id": "Hzi4I0g3btVo",
        "outputId": "eee2ee98-31b4-4b57-eb1d-295d713beee4"
      },
      "execution_count": 66,
      "outputs": [
        {
          "output_type": "stream",
          "name": "stdout",
          "text": [
            "3.141592653589793\n"
          ]
        }
      ]
    },
    {
      "cell_type": "code",
      "source": [
        "one = input('Введите первую строку ')\n",
        "two = input('введите вторую строку ')\n",
        "if len(one) > len(two):\n",
        "  print(f'Первая строка {one} длиннее второй')\n",
        "  if len(one) / len(two) > 2:\n",
        "    print('Первая строка длиннее второй в два или более раза')\n",
        "    print(len(one) / len(two))\n",
        "elif len(one) < len(two):\n",
        "  print(f'Вторая строка {two} длиннее первой')\n",
        "else:\n",
        "  print('Строки равны по длине')"
      ],
      "metadata": {
        "colab": {
          "base_uri": "https://localhost:8080/"
        },
        "id": "xW2tnaNddBZW",
        "outputId": "f44a0457-e2e4-4dbc-c0d4-64cba508dacc"
      },
      "execution_count": 77,
      "outputs": [
        {
          "output_type": "stream",
          "name": "stdout",
          "text": [
            "Введите первую строку авав\n",
            "введите вторую строку вап\n",
            "Первая строка авав длиннее второй\n"
          ]
        }
      ]
    },
    {
      "cell_type": "code",
      "source": [
        "len(one) > len(two)"
      ],
      "metadata": {
        "colab": {
          "base_uri": "https://localhost:8080/"
        },
        "id": "tM3HbaRaZuEm",
        "outputId": "baea369c-8895-4903-ba08-8f58c3a047ef"
      },
      "execution_count": 69,
      "outputs": [
        {
          "output_type": "execute_result",
          "data": {
            "text/plain": [
              "False"
            ]
          },
          "metadata": {},
          "execution_count": 69
        }
      ]
    },
    {
      "cell_type": "code",
      "source": [
        "c = 0\n",
        "while c < 100:\n",
        "  c = c + 1\n",
        "  if c % 2 == 1:\n",
        "    continue\n",
        "  print(c)\n",
        "print('Конец программы')"
      ],
      "metadata": {
        "id": "JT6S4Yyqdh8d"
      },
      "execution_count": null,
      "outputs": []
    },
    {
      "cell_type": "code",
      "source": [],
      "metadata": {
        "id": "yy8v8c3vjKtt"
      },
      "execution_count": null,
      "outputs": []
    }
  ]
}